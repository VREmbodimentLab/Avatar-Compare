{
 "cells": [
  {
   "cell_type": "code",
   "execution_count": 15,
   "metadata": {},
   "outputs": [],
   "source": [
    "import os.path\n",
    "import math\n",
    "import argparse\n",
    "import random\n",
    "import numpy as np\n",
    "from collections import OrderedDict\n",
    "import logging\n",
    "import torch\n",
    "from torch.utils.data import DataLoader\n",
    "from utils import utils_logger\n",
    "from utils import utils_option as option\n",
    "from data.select_dataset import define_Dataset\n",
    "from models.select_model import define_Model\n",
    "from utils import utils_transform\n",
    "import pickle\n",
    "#from utils import utils_visualize as vis\n",
    "from human_body_prior.tools.rotation_tools import aa2matrot,local2global_pose,matrot2aa\n",
    "from scipy.spatial.transform import Rotation as R"
   ]
  },
  {
   "cell_type": "code",
   "execution_count": 20,
   "metadata": {},
   "outputs": [
    {
     "name": "stdout",
     "output_type": "stream",
     "text": [
      "[ 0.         -0.08095152  0.81694193]\n",
      "torch.Size([1, 3, 3])\n",
      "tensor([[ 0.0000, -0.0810,  0.8169]], dtype=torch.float64)\n"
     ]
    }
   ],
   "source": [
    "r = R.from_matrix([\n",
    "[0.54, -1, 0.123],\n",
    "[0.1, 0, 0],\n",
    "[0.232, 0, 1]])\n",
    "rotvec = r.as_rotvec()\n",
    "\n",
    "print(rotvec)\n",
    "\n",
    "mat = r.as_matrix()\n",
    "mat = torch.tensor(mat)\n",
    "mat = mat.unsqueeze(dim=0)\n",
    "mat_to_aa = matrot2aa(mat)\n",
    "\n",
    "print(mat.shape)\n",
    "print(mat_to_aa)\n"
   ]
  },
  {
   "cell_type": "code",
   "execution_count": null,
   "metadata": {},
   "outputs": [],
   "source": []
  }
 ],
 "metadata": {
  "kernelspec": {
   "display_name": "pytorch_geometric",
   "language": "python",
   "name": "python3"
  },
  "language_info": {
   "codemirror_mode": {
    "name": "ipython",
    "version": 3
   },
   "file_extension": ".py",
   "mimetype": "text/x-python",
   "name": "python",
   "nbconvert_exporter": "python",
   "pygments_lexer": "ipython3",
   "version": "3.9.15"
  },
  "orig_nbformat": 4
 },
 "nbformat": 4,
 "nbformat_minor": 2
}
