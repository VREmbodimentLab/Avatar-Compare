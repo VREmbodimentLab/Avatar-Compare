{
 "cells": [
  {
   "cell_type": "code",
   "execution_count": 3,
   "metadata": {},
   "outputs": [],
   "source": [
    "import os.path\n",
    "import math\n",
    "import argparse\n",
    "import random\n",
    "import numpy as np\n",
    "from collections import OrderedDict\n",
    "import logging\n",
    "import torch\n",
    "from torch.utils.data import DataLoader\n",
    "from utils import utils_logger\n",
    "from utils import utils_option as option\n",
    "from data.select_dataset import define_Dataset\n",
    "from models.select_model import define_Model\n",
    "from utils import utils_transform\n",
    "from utils.torch_fk import SMPLHForwardKinematics\n",
    "import pickle\n",
    "#from utils import utils_visualize as vis\n",
    "from human_body_prior.tools.rotation_tools import aa2matrot,local2global_pose,matrot2aa\n",
    "from scipy.spatial.transform import Rotation as R\n",
    "from human_body_prior.body_model.body_model import BodyModel"
   ]
  },
  {
   "cell_type": "code",
   "execution_count": 4,
   "metadata": {},
   "outputs": [],
   "source": [
    "fk_engine = SMPLHForwardKinematics()\n",
    "support_dir = 'support_data/'\n",
    "bm_fname_male = os.path.join(support_dir, 'body_models/smplh/{}/model.npz'.format('male'))\n",
    "dmpl_fname_male = os.path.join(support_dir, 'body_models/dmpls/{}/model.npz'.format('male'))\n",
    "num_betas = 16\n",
    "num_dmpls = 8\n",
    "body_model = BodyModel(bm_fname=bm_fname_male, num_betas=num_betas, num_dmpls=num_dmpls, dmpl_fname=dmpl_fname_male)"
   ]
  },
  {
   "cell_type": "code",
   "execution_count": 6,
   "metadata": {},
   "outputs": [
    {
     "name": "stdout",
     "output_type": "stream",
     "text": [
      "['rotation_local_full_gt_list', 'hmd_position_global_full_gt_list', 'body_parms_list', 'head_global_trans_list', 'framerate', 'gender', 'filepath', 'position_global_full_gt_world']\n"
     ]
    }
   ],
   "source": [
    "test_data = np.load('./data_fps60/CMU/test/1.pkl',allow_pickle=True)\n",
    "\n",
    "print(list(test_data.keys()))"
   ]
  }
 ],
 "metadata": {
  "kernelspec": {
   "display_name": "pytorch_geometric",
   "language": "python",
   "name": "python3"
  },
  "language_info": {
   "codemirror_mode": {
    "name": "ipython",
    "version": 3
   },
   "file_extension": ".py",
   "mimetype": "text/x-python",
   "name": "python",
   "nbconvert_exporter": "python",
   "pygments_lexer": "ipython3",
   "version": "3.9.15"
  },
  "orig_nbformat": 4
 },
 "nbformat": 4,
 "nbformat_minor": 2
}
