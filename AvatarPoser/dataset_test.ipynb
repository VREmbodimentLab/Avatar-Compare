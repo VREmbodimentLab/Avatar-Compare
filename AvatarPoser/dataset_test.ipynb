{
 "cells": [
  {
   "cell_type": "code",
   "execution_count": 1,
   "metadata": {},
   "outputs": [
    {
     "name": "stderr",
     "output_type": "stream",
     "text": [
      "c:\\Users\\rnwns\\anaconda3\\envs\\pytorch_geometric\\lib\\site-packages\\tqdm\\auto.py:22: TqdmWarning: IProgress not found. Please update jupyter and ipywidgets. See https://ipywidgets.readthedocs.io/en/stable/user_install.html\n",
      "  from .autonotebook import tqdm as notebook_tqdm\n"
     ]
    }
   ],
   "source": [
    "import torch\n",
    "import numpy as np\n",
    "import torch.nn as nn\n",
    "import os\n",
    "import time\n",
    "from torch.utils.data import Dataset, DataLoader\n",
    "from human_body_prior.body_model.body_model import BodyModel\n",
    "from human_body_prior.tools.omni_tools import copy2cpu as c2c\n",
    "from human_body_prior.tools.rotation_tools import aa2matrot,matrot2aa,local2global_pose\n",
    "import random\n",
    "from utils import utils_transform\n",
    "from models.network import AvatarPoser as net\n",
    "from scipy import signal\n",
    "\n",
    "import glob\n",
    "from IPython import embed\n",
    "import time\n",
    "import copy\n",
    "import pickle\n",
    "from human_body_prior.body_model.body_model import BodyModel"
   ]
  },
  {
   "cell_type": "code",
   "execution_count": 42,
   "metadata": {},
   "outputs": [
    {
     "name": "stdout",
     "output_type": "stream",
     "text": [
      "name\n",
      "local\n",
      "world\n",
      "reflocal\n",
      "refworld\n",
      "contact\n",
      "(210,)\n",
      "(210,)\n",
      "(139, 23, 4, 4)\n",
      "(155, 23, 4, 4)\n",
      "(139, 23, 4, 4)\n",
      "(139, 23, 4, 4)\n",
      "[]\n"
     ]
    }
   ],
   "source": [
    "data_path = './dataset_pose_test.npz'\n",
    "cmu_path = './support_data/body_models/CMU/01/01_01_poses.npz'\n",
    "data = np.load(data_path, allow_pickle= True)\n",
    "cmuz = np.load(cmu_path, allow_pickle=True)\n",
    "\n",
    "\n",
    "\n",
    "for key in data:\n",
    "    print(key)\n",
    "\n",
    "'''\n",
    "for key in cmuz:\n",
    "    print(key)\n",
    "'''\n",
    "\n",
    "#print(cmuz['trans'].shape) # (2751,3)\n",
    "#print(cmuz['betas'].shape) # (16,)\n",
    "#print(cmuz['poses'].shape) # (2751, 156)\n",
    "#print(cmuz['dmpls'].shape) # (2751, 8)\n",
    "\n",
    "print(data['name'].shape)\n",
    "print(data['local'].shape)\n",
    "print(data['local'][0].shape)\n",
    "print(data['local'][1].shape)\n",
    "print(data['reflocal'][0].shape)\n",
    "print(data['world'][0].shape)\n",
    "print(data['contact'])"
   ]
  },
  {
   "cell_type": "code",
   "execution_count": 34,
   "metadata": {},
   "outputs": [
    {
     "name": "stdout",
     "output_type": "stream",
     "text": [
      "rotation_local_full_gt_list\n",
      "hmd_position_global_full_gt_list\n",
      "body_parms_list\n",
      "head_global_trans_list\n",
      "framerate\n",
      "gender\n",
      "filepath\n"
     ]
    }
   ],
   "source": [
    "pic_path = './data_fps60/CMU/test/1.pkl'\n",
    "\n",
    "pic = np.load(pic_path, allow_pickle=True)\n",
    "\n",
    "for key in pic:\n",
    "    print(key)"
   ]
  }
 ],
 "metadata": {
  "kernelspec": {
   "display_name": "pytorch_geometric",
   "language": "python",
   "name": "python3"
  },
  "language_info": {
   "codemirror_mode": {
    "name": "ipython",
    "version": 3
   },
   "file_extension": ".py",
   "mimetype": "text/x-python",
   "name": "python",
   "nbconvert_exporter": "python",
   "pygments_lexer": "ipython3",
   "version": "3.9.15"
  },
  "orig_nbformat": 4,
  "vscode": {
   "interpreter": {
    "hash": "11a10ac59cb09bb99373e30fc5a99bd84145ddd99a9af1d11d412ecb91ad6a52"
   }
  }
 },
 "nbformat": 4,
 "nbformat_minor": 2
}
